{
 "cells": [
  {
   "cell_type": "markdown",
   "metadata": {},
   "source": [
    "#良、恶性乳腺癌肿数据\n",
    "[原始数据](https://archive.ics.uci.edu/ml/machine-learning-databases/breast-cancer-wisconsin/breast-cancer-wisconsin.data)\n",
    "，[数据说明](https://archive.ics.uci.edu/ml/machine-learning-databases/breast-cancer-wisconsin/breast-cancer-wisconsin.names)\n",
    "* [机器学习相关的数据库及数据介绍](https://archive.ics.uci.edu/ml/machine-learning-databases)\n",
    "* 数据描述\n",
    "    * 1. 699条样本，共11列数据，第一列用语检索的id，后9列分别是与肿瘤相关的医学特征，最后一列表示肿瘤类型的数值\n",
    "    * 2. 包含16个缺失值，用“？”标出"
   ]
  },
  {
   "cell_type": "code",
   "execution_count": null,
   "metadata": {},
   "outputs": [],
   "source": [
    "from sklearn.datasets import load_boston  #波士顿房价数据\n",
    "from sklearn.linear_model import  SGDRegressor #最小二乘法（梯度下降法）\n",
    "from sklearn.linear_model import  LogisticRegression #逻辑回归\n",
    "from sklearn.model_selection import train_test_split #分割训练集和测试集\n",
    "from sklearn.preprocessing import StandardScaler  #特征标准化处理\n",
    "from sklearn.metrics import mean_squared_error #回归性能评估\n",
    "from sklearn.metrics import classification_report #召回率\n",
    "from sklearn.externals import joblib #模型的导入和保存\n",
    "import pandas as pd\n",
    "import numpy as np"
   ]
  },
  {
   "cell_type": "code",
   "execution_count": null,
   "metadata": {},
   "outputs": [],
   "source": [
    "def logistic():\n",
    "    \"\"\"\n",
    "    逻辑回归做二分类进行癌症预测（根据细胞的属性特征）\n",
    "    \"\"\"\n",
    "    #缺失列名，需指定\n",
    "    column = ['Sample code number','Clump Thickness','Uniformity of Cell Size','Uniformity of Cell Shape','Marginal Adhesion','Single Epithelial Cell Size','Bare Nuclei','Bland Chromatin','Normal Nucleoli','Mitoses','Class']\n",
    "    #获取数据\n",
    "    data = pd.read_csv('https://archive.ics.uci.edu/ml/machine-learning-databases/breast-cancer-wisconsin/breast-cancer-wisconsin.data',names=column)\n",
    "    \n",
    "    #缺失值进行处理\n",
    "    data = data.replace(to_replace='?',value=np.nan)\n",
    "    \n",
    "    data = data.dropna()\n",
    "    \n",
    "    #进行数据分割\n",
    "    x_train,x_test,y_train,y_test = train_test_split(data[column[1:10]],data[column[10]],test_size=0.25)\n",
    "    \n",
    "    #特征标准化处理\n",
    "    std = StandardScaler()\n",
    "    \n",
    "    x_train = std.fit_transform(x_train)\n",
    "    x_test = std.transform(x_test)\n",
    "    \n",
    "    #逻辑回归预测\n",
    "    lg = LogisticRegression(C=1.0)\n",
    "    \n",
    "    lg.fit(x_train,y_train)\n",
    "    \n",
    "    y_predict = lg.predict(x_test)\n",
    "    \n",
    "    print('逻辑回归中回归系数:',lg.coef_)\n",
    "    print(\"准确率：\",lg.score(x_test,y_test))\n",
    "    print('召回率：',classification_report(y_test,y_predict,labels=[2,4],target_names=['良性','恶心']))\n",
    "    \n",
    "    return None\n",
    "\n",
    "logistic()"
   ]
  }
 ],
 "metadata": {
  "kernelspec": {
   "display_name": "Python 3",
   "language": "python",
   "name": "python3"
  },
  "language_info": {
   "codemirror_mode": {
    "name": "ipython",
    "version": 3
   },
   "file_extension": ".py",
   "mimetype": "text/x-python",
   "name": "python",
   "nbconvert_exporter": "python",
   "pygments_lexer": "ipython3",
   "version": "3.6.8"
  }
 },
 "nbformat": 4,
 "nbformat_minor": 2
}
