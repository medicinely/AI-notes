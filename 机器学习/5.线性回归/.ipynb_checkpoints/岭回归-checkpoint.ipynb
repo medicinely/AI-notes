{
 "cells": [
  {
   "cell_type": "code",
   "execution_count": 1,
   "metadata": {},
   "outputs": [
    {
     "name": "stderr",
     "output_type": "stream",
     "text": [
      "/usr/lib/python3.6/importlib/_bootstrap.py:219: RuntimeWarning: numpy.ufunc size changed, may indicate binary incompatibility. Expected 192 from C header, got 216 from PyObject\n",
      "  return f(*args, **kwds)\n"
     ]
    }
   ],
   "source": [
    "from sklearn.datasets import load_boston  #波士顿房价数据\n",
    "from sklearn.linear_model import LinearRegression #最小二乘法（正规方程）\n",
    "from sklearn.linear_model import  SGDRegressor #最小二乘法（梯度下降法）\n",
    "from sklearn.linear_model import  Ridge #岭回归\n",
    "from sklearn.model_selection import train_test_split #分割训练集和测试集\n",
    "from sklearn.preprocessing import StandardScaler  #特征标准化处理\n",
    "from sklearn.metrics import mean_squared_error #回归性能评估\n",
    "import numpy as np"
   ]
  },
  {
   "cell_type": "code",
   "execution_count": null,
   "metadata": {},
   "outputs": [],
   "source": [
    "def mylinear():\n",
    "    \"\"\"\n",
    "    线性回归直接预测房价价格\n",
    "    \"\"\"\n",
    "    \n",
    "    #获取数据\n",
    "    lb = load_boston()\n",
    "    \n",
    "    #分割数据集到训练集和测试集\n",
    "    x_train,x_test,y_train,y_test = train_test_split(lb.data,lb.target,test_size=0.25)\n",
    "    \n",
    "    #进行标准化处理(目标值也需要标准化处理==》处理后需要转回来inverse_transform)\n",
    "    \n",
    "    #特征值标准化\n",
    "    std_x = StandardScaler()\n",
    "    x_train = std_x.fit_transform(x_train)\n",
    "    x_test = std_x.transform(x_test)\n",
    "    \n",
    "    #目标值\n",
    "    std_y = StandardScaler()\n",
    "    y_train = std_y.fit_transform(y_train.reshape(-1,1)) #传入参数必须二维\n",
    "    y_test = std_y.transform(y_test.reshape(-1,1))\n",
    "    \n",
    "    \n",
    "    \n",
    "    #estimator预测\n",
    "    \n",
    "    #1.正规方程求解方式预测结果\n",
    "    lr = LinearRegression()\n",
    "    lr.fit(x_train,y_train)\n",
    "    print(\"正规方程回归系数：\",lr.coef_)\n",
    "    \n",
    "    #预测测试集的房价价格\n",
    "    y_predict = lr.predict(x_test)\n",
    "    y_lr_predict = std_y.inverse_transform(y_predict)  #把标准化数据转到正常值\n",
    "    print('正规方程测试集中每个房子的预测价格:',y_lr_predict)\n",
    "    print('正规方程的均方误差:',mean_squared_error(\n",
    "                                    std_y.inverse_transform(y_test),\n",
    "                                    y_lr_predict\n",
    "                                         ))\n",
    "    \n",
    "    #2.梯度下降求解方式预测结果\n",
    "    sgd = SGDRegressor()\n",
    "    sgd.fit(x_train,y_train)\n",
    "    print(\"梯度下降回归系数：\",sgd.coef_)\n",
    "    \n",
    "    #预测测试集的房价价格\n",
    "    y_predict = sgd.predict(x_test)\n",
    "    y_sgd_predict = std_y.inverse_transform(y_predict)  #把标准化数据转到正常值\n",
    "    print('梯度下降测试集中每个房子的预测价格:',y_sgd_predict)\n",
    "    print('梯度下降的均方误差:',mean_squared_error(\n",
    "                                std_y.inverse_transform(y_test),\n",
    "                                y_sgd_predict\n",
    "                                     ))\n",
    "    \n",
    "    return None\n",
    "\n",
    "mylinear()"
   ]
  }
 ],
 "metadata": {
  "kernelspec": {
   "display_name": "Python 3",
   "language": "python",
   "name": "python3"
  },
  "language_info": {
   "codemirror_mode": {
    "name": "ipython",
    "version": 3
   },
   "file_extension": ".py",
   "mimetype": "text/x-python",
   "name": "python",
   "nbconvert_exporter": "python",
   "pygments_lexer": "ipython3",
   "version": "3.6.8"
  }
 },
 "nbformat": 4,
 "nbformat_minor": 2
}
