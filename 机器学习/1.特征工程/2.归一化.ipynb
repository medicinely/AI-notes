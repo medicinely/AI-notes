{
 "cells": [
  {
   "cell_type": "code",
   "execution_count": 2,
   "metadata": {
    "scrolled": true
   },
   "outputs": [],
   "source": [
    "from sklearn.preprocessing import MinMaxScaler"
   ]
  },
  {
   "cell_type": "code",
   "execution_count": 5,
   "metadata": {},
   "outputs": [
    {
     "name": "stdout",
     "output_type": "stream",
     "text": [
      "[[3.         2.         2.         2.        ]\n",
      " [2.         3.         3.         2.83333333]\n",
      " [2.5        2.5        2.6        3.        ]]\n"
     ]
    }
   ],
   "source": [
    "def mm():\n",
    "    \"\"\"\n",
    "    归一化处理\n",
    "    \"\"\"\n",
    "    \n",
    "    #指定特定区间范围 ==>默认范围[0,1]\n",
    "    mm = MinMaxScaler(feature_range=((2,3)))\n",
    "    data = mm.fit_transform([\n",
    "        [90,2,10,40],\n",
    "        [60,4,15,45],\n",
    "        [75,3,13,46],\n",
    "    ])\n",
    "    print(data)\n",
    "    \n",
    "mm()"
   ]
  }
 ],
 "metadata": {
  "kernelspec": {
   "display_name": "Python 3",
   "language": "python",
   "name": "python3"
  },
  "language_info": {
   "codemirror_mode": {
    "name": "ipython",
    "version": 3
   },
   "file_extension": ".py",
   "mimetype": "text/x-python",
   "name": "python",
   "nbconvert_exporter": "python",
   "pygments_lexer": "ipython3",
   "version": "3.6.8"
  }
 },
 "nbformat": 4,
 "nbformat_minor": 2
}
