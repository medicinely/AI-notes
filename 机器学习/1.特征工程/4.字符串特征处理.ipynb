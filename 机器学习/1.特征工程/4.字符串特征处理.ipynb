{
 "cells": [
  {
   "cell_type": "markdown",
   "metadata": {},
   "source": [
    "# 1.字典特征抽取"
   ]
  },
  {
   "cell_type": "code",
   "execution_count": 13,
   "metadata": {},
   "outputs": [],
   "source": [
    "from sklearn.feature_extraction import DictVectorizer"
   ]
  },
  {
   "cell_type": "code",
   "execution_count": 38,
   "metadata": {},
   "outputs": [
    {
     "name": "stdout",
     "output_type": "stream",
     "text": [
      "字典数据抽取特征： ['city=上海', 'city=北京', 'city=广州', 'temperature']\n",
      "sparse矩阵：\n",
      "   (0, 1)\t1.0\n",
      "  (0, 3)\t100.0\n",
      "  (1, 0)\t1.0\n",
      "  (1, 3)\t60.0\n",
      "  (2, 2)\t1.0\n",
      "  (2, 3)\t30.0\n",
      "ndarray格式的二维数组（One-hot编码）:\n",
      " [[  0.   1.   0. 100.]\n",
      " [  1.   0.   0.  60.]\n",
      " [  0.   0.   1.  30.]]\n",
      "把特征化数据转会原始数据：\n",
      " [{'city=北京': 1.0, 'temperature': 100.0}, {'city=上海': 1.0, 'temperature': 60.0}, {'city=广州': 1.0, 'temperature': 30.0}]\n"
     ]
    }
   ],
   "source": [
    "def dictver():\n",
    "    \"\"\"\n",
    "    字典数据抽取\n",
    "    \"\"\"\n",
    "    #实例化\n",
    "        \n",
    "    dict1 = DictVectorizer()\n",
    "    #sparse矩阵\n",
    "    dict2 = DictVectorizer(sparse=False)\n",
    "    #调用fit_transform\n",
    "    data1 = dict1.fit_transform([\n",
    "        {'city':'北京','temperature':100},\n",
    "        {'city':'上海','temperature':60},\n",
    "        {'city':'广州','temperature':30},\n",
    "    ])\n",
    "    \n",
    "    data2 = dict2.fit_transform([\n",
    "        {'city':'北京','temperature':100},\n",
    "        {'city':'上海','temperature':60},\n",
    "        {'city':'广州','temperature':30},\n",
    "    ])\n",
    "    \n",
    "    print('字典数据抽取特征：',dict1.get_feature_names())\n",
    "    print('sparse矩阵：\\n',data1)\n",
    "    print('ndarray格式的二维数组（One-hot编码）:\\n',data2)\n",
    "    print('把特征化数据转会原始数据：\\n',dict2.inverse_transform(data2))\n",
    "\n",
    "      \n",
    "    return None\n",
    "\n",
    "dictver()"
   ]
  },
  {
   "cell_type": "markdown",
   "metadata": {},
   "source": [
    "# 2.文本特征抽取（纯英文）\n",
    "* `特征抽取默认对空格进行分割`\n",
    "* 1.统计所有文章当中所有的词，重复的只看做一次，（词列表）\n",
    "* 2.对每篇文章，在词列表进行统计每个词出现的次数　"
   ]
  },
  {
   "cell_type": "code",
   "execution_count": 41,
   "metadata": {},
   "outputs": [],
   "source": [
    "from sklearn.feature_extraction.text import CountVectorizer"
   ]
  },
  {
   "cell_type": "code",
   "execution_count": 47,
   "metadata": {
    "collapsed": true
   },
   "outputs": [
    {
     "name": "stdout",
     "output_type": "stream",
     "text": [
      "文本数据抽取特征：\n",
      " ['dislike', 'is', 'life', 'like', 'long', 'python', 'short', 'too']\n",
      "数组矩阵（one-hot编码）：\n",
      " [[0 2 1 1 0 1 1 0]\n",
      " [1 1 1 0 1 1 0 1]]\n",
      "sparse矩阵：\n",
      "   (0, 2)\t1\n",
      "  (0, 1)\t2\n",
      "  (0, 6)\t1\n",
      "  (0, 3)\t1\n",
      "  (0, 5)\t1\n",
      "  (1, 2)\t1\n",
      "  (1, 1)\t1\n",
      "  (1, 5)\t1\n",
      "  (1, 7)\t1\n",
      "  (1, 4)\t1\n",
      "  (1, 0)\t1\n"
     ]
    }
   ],
   "source": [
    "def countvec():\n",
    "    \"\"\"\n",
    "    对文本进行特征化\n",
    "    \"\"\"\n",
    "    #实例化CountVectorizer\n",
    "    cv = CountVectorizer()\n",
    "    #调用fit_transform输入并转换数据\n",
    "    data = cv.fit_transform([\"Life is short,I is like python\",\"life is too long,i dislike python\"])\n",
    "    #打印结果\n",
    "    print('文本数据抽取特征：\\n',cv.get_feature_names())\n",
    "    print('数组矩阵（one-hot编码）：\\n',data.toarray())\n",
    "    print('sparse矩阵：\\n',data)\n",
    "    \n",
    "    \n",
    "countvec()"
   ]
  },
  {
   "cell_type": "markdown",
   "metadata": {},
   "source": [
    "# 文本特征抽取二（包含中文）\n",
    "* `特征抽取默认对空格进行分割`\n",
    "* 可利用　jieba分词库进行分词\n",
    "    * jieba.cut('我是一个好程序员')"
   ]
  },
  {
   "cell_type": "code",
   "execution_count": 61,
   "metadata": {},
   "outputs": [],
   "source": [
    "import jieba\n",
    "from sklearn.feature_extraction.text import CountVectorizer"
   ]
  },
  {
   "cell_type": "code",
   "execution_count": 70,
   "metadata": {},
   "outputs": [],
   "source": [
    "# 使用jieba库进行分词\n",
    "def cutword():\n",
    "    \"\"\"\n",
    "    对句子进行分词\n",
    "    \"\"\"\n",
    "    word1 = \"今天很残酷python，明天更残酷，后天很美好，但绝对大部分是死在明天晚上\"\n",
    "    word2 = \"我们看到的从很远星系来的光是几百万年之前发出的，这样当我们看到宇宙时，我们是在看它的过去\"\n",
    "    word3 = \"如果只用一种方式了解某样事物，你就不会真正了解它。了解事物真正含义的秘密取决与我们\"\n",
    "    \n",
    "    con1 = jieba.cut(word1)\n",
    "    con2 = jieba.cut(word2)\n",
    "    con3 = jieba.cut(word3)\n",
    "    #返回结果为对象，需要转换成列表\n",
    "    content1 = list(con1)\n",
    "    content2 = list(con2)\n",
    "    content3 = list(con3)\n",
    "    \n",
    "    #把列表转换成字符串\n",
    "    c1 = ' '.join(content1)\n",
    "    c2 = ' '.join(content2)\n",
    "    c3 = ' '.join(content3)\n",
    "    \n",
    "    return c1,c2,c3"
   ]
  },
  {
   "cell_type": "markdown",
   "metadata": {},
   "source": [
    "## 文本特征抽取"
   ]
  },
  {
   "cell_type": "code",
   "execution_count": 71,
   "metadata": {
    "collapsed": true
   },
   "outputs": [
    {
     "name": "stdout",
     "output_type": "stream",
     "text": [
      "句子１：\n",
      "今天 很 残酷 python ， 明天 更 残酷 ， 后天 很 美好 ， 但 绝对 大部分 是 死 在 明天 晚上\n",
      "句子２:\n",
      "我们 看到 的 从 很 远 星系 来 的 光是 几百万年 之前 发出 的 ， 这样 当 我们 看到 宇宙 时 ， 我们 是 在 看 它 的 过去\n",
      "句子3：\n",
      "如果 只用 一种 方式 了解 某样 事物 ， 你 就 不会 真正 了解 它 。 了解 事物 真正 含义 的 秘密 取决 与 我们\n",
      "\n",
      "\n",
      "特征值：\n",
      " ['python', '一种', '不会', '之前', '了解', '事物', '今天', '光是', '几百万年', '发出', '取决', '只用', '后天', '含义', '大部分', '如果', '宇宙', '我们', '方式', '明天', '星系', '晚上', '某样', '残酷', '看到', '真正', '秘密', '绝对', '美好', '过去', '这样']\n",
      "one-hot编码：\n",
      " [[1 0 0 0 0 0 1 0 0 0 0 0 1 0 1 0 0 0 0 2 0 1 0 2 0 0 0 1 1 0 0]\n",
      " [0 0 0 1 0 0 0 1 1 1 0 0 0 0 0 0 1 3 0 0 1 0 0 0 2 0 0 0 0 1 1]\n",
      " [0 1 1 0 3 2 0 0 0 0 1 1 0 1 0 1 0 1 1 0 0 0 1 0 0 2 1 0 0 0 0]]\n"
     ]
    }
   ],
   "source": [
    "def hanzivec():\n",
    "    \"\"\"\n",
    "    中文特征值化\n",
    "    \"\"\"\n",
    "    c1,c2,c3 = cutword()\n",
    "    print('句子１：\\n%s\\n句子２:\\n%s\\n句子3：\\n%s\\n' %(c1,c2,c3))\n",
    "    \n",
    "    #实例化CountVectorizer\n",
    "    cv = CountVectorizer()\n",
    "    #调用fit_transform输入并转换数据\n",
    "    data = cv.fit_transform([c1,c2,c3])\n",
    "    \n",
    "    print('\\n特征值：\\n',cv.get_feature_names())\n",
    "    print('one-hot编码：\\n',data.toarray())\n",
    "    \n",
    "hanzivec()"
   ]
  },
  {
   "cell_type": "markdown",
   "metadata": {},
   "source": [
    "# 3.文本类型"
   ]
  },
  {
   "cell_type": "code",
   "execution_count": 72,
   "metadata": {},
   "outputs": [],
   "source": [
    "from sklearn.feature_extraction.text import TfidfVectorizer"
   ]
  },
  {
   "cell_type": "code",
   "execution_count": 76,
   "metadata": {
    "collapsed": true
   },
   "outputs": [
    {
     "name": "stdout",
     "output_type": "stream",
     "text": [
      "句子１：\n",
      "今天 很 残酷 python ， 明天 更 残酷 ， 后天 很 美好 ， 但 绝对 大部分 是 死 在 明天 晚上\n",
      "句子２:\n",
      "我们 看到 的 从 很 远 星系 来 的 光是 几百万年 之前 发出 的 ， 这样 当 我们 看到 宇宙 时 ， 我们 是 在 看 它 的 过去\n",
      "句子3：\n",
      "如果 只用 一种 方式 了解 某样 事物 ， 你 就 不会 真正 了解 它 。 了解 事物 真正 含义 的 秘密 取决 与 我们\n",
      "\n",
      "\n",
      "特征值：\n",
      " ['python', '一种', '不会', '之前', '了解', '事物', '今天', '光是', '几百万年', '发出', '取决', '只用', '后天', '含义', '大部分', '如果', '宇宙', '我们', '方式', '明天', '星系', '晚上', '某样', '残酷', '看到', '真正', '秘密', '绝对', '美好', '过去', '这样']\n",
      "\n",
      "某个词对文章的重要程度：\n",
      " [[0.25819889 0.         0.         0.         0.         0.\n",
      "  0.25819889 0.         0.         0.         0.         0.\n",
      "  0.25819889 0.         0.25819889 0.         0.         0.\n",
      "  0.         0.51639778 0.         0.25819889 0.         0.51639778\n",
      "  0.         0.         0.         0.25819889 0.25819889 0.\n",
      "  0.        ]\n",
      " [0.         0.         0.         0.2410822  0.         0.\n",
      "  0.         0.2410822  0.2410822  0.2410822  0.         0.\n",
      "  0.         0.         0.         0.         0.2410822  0.55004769\n",
      "  0.         0.         0.2410822  0.         0.         0.\n",
      "  0.48216441 0.         0.         0.         0.         0.2410822\n",
      "  0.2410822 ]\n",
      " [0.         0.19397046 0.19397046 0.         0.58191137 0.38794091\n",
      "  0.         0.         0.         0.         0.19397046 0.19397046\n",
      "  0.         0.19397046 0.         0.19397046 0.         0.14751953\n",
      "  0.19397046 0.         0.         0.         0.19397046 0.\n",
      "  0.         0.38794091 0.19397046 0.         0.         0.\n",
      "  0.        ]]\n"
     ]
    }
   ],
   "source": [
    "def tfidvec():\n",
    "    \"\"\"\n",
    "    中文特征值化\n",
    "    \"\"\"\n",
    "    c1,c2,c3 = cutword()\n",
    "    print('句子１：\\n%s\\n句子２:\\n%s\\n句子3：\\n%s\\n' %(c1,c2,c3))\n",
    "    \n",
    "    #实例化CountVectorizer\n",
    "    tf = TfidfVectorizer()\n",
    "    #调用fit_transform输入并转换数据\n",
    "    data = tf.fit_transform([c1,c2,c3])\n",
    "    \n",
    "    print('\\n特征值：\\n',tf.get_feature_names())\n",
    "    print('\\n某个词对文章的重要程度：\\n',data.toarray())\n",
    "    \n",
    "tfidvec()"
   ]
  }
 ],
 "metadata": {
  "kernelspec": {
   "display_name": "Python 3",
   "language": "python",
   "name": "python3"
  },
  "language_info": {
   "codemirror_mode": {
    "name": "ipython",
    "version": 3
   },
   "file_extension": ".py",
   "mimetype": "text/x-python",
   "name": "python",
   "nbconvert_exporter": "python",
   "pygments_lexer": "ipython3",
   "version": "3.6.8"
  }
 },
 "nbformat": 4,
 "nbformat_minor": 2
}
