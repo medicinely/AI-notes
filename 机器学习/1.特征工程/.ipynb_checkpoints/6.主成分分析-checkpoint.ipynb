{
 "cells": [
  {
   "cell_type": "markdown",
   "metadata": {},
   "source": [
    "# 主成分分析"
   ]
  },
  {
   "cell_type": "code",
   "execution_count": 3,
   "metadata": {},
   "outputs": [],
   "source": [
    "from sklearn.decomposition import PCA"
   ]
  },
  {
   "cell_type": "code",
   "execution_count": 10,
   "metadata": {
    "collapsed": true
   },
   "outputs": [
    {
     "name": "stdout",
     "output_type": "stream",
     "text": [
      "[[ 1.28620952e-15  3.82970843e+00]\n",
      " [ 5.74456265e+00 -1.91485422e+00]\n",
      " [-5.74456265e+00 -1.91485422e+00]]\n"
     ]
    }
   ],
   "source": [
    "def pca():\n",
    "    \"\"\"\n",
    "    主成分分析进行特征降维\n",
    "    \"\"\"\n",
    "    pca = PCA(n_components=0.9)\n",
    "    data = pca.fit_transform([\n",
    "        [2,8,4,5],\n",
    "        [6,3,0,8],\n",
    "        [5,4,9,1]\n",
    "    ])\n",
    "    \n",
    "    print(data)\n",
    "    \n",
    "pca()"
   ]
  },
  {
   "cell_type": "markdown",
   "metadata": {},
   "source": [
    "# 实例一\n",
    "> [Instacart市场篮子分析](https://www.kaggle.com/c/instacart-market-basket-analysis/data)\n",
    "* instaccart：把用户分成几个类别， 用户-购买的物品类别\n",
    "* 1.合并各张表到一张表当中（包含相同id号）\n",
    "    * prior: product_id,order_id\n",
    "    * products: product_id,aisle_id\n",
    "    * orders: order_id,user_id\n",
    "    * aisles: aisle_id,aisle"
   ]
  },
  {
   "cell_type": "code",
   "execution_count": 11,
   "metadata": {},
   "outputs": [],
   "source": [
    "import pandas as pd\n",
    "from sklearn.decomposition import PCA"
   ]
  },
  {
   "cell_type": "code",
   "execution_count": null,
   "metadata": {},
   "outputs": [],
   "source": [
    "#读取四张表的数据\n",
    "prior = pd.read_csv('./data/order_products__prior.csv')\n",
    "products = pd.read_csv('./data/products.csv')\n",
    "orders = pd.read_csv('./data/orders.csv')\n",
    "aisles = pd.read_csv('./data/aisles.csv')\n",
    "\n",
    "#合并四张表到一张表（用户-物品类别）\n",
    "_mg = pd.merge(prior,products,on=['product_id','product_id'])\n",
    "_mg = pd.merge(_mg,orders,on=['order_id','order_id'])\n",
    "mt = pd.merge(_mg,aisles,on=['aisles_id','aisles_id'])"
   ]
  },
  {
   "cell_type": "code",
   "execution_count": null,
   "metadata": {},
   "outputs": [],
   "source": [
    "#交叉表（特殊的分组工具）\n",
    "cross = pd.crosstab(mt['user_id'],mt['aisle'])  #user_id为行，aisle为列\n",
    "#进行主成分分析\n",
    "pca = PCA(n_components=0.9)\n",
    "data = pca.fit_transform(cross)\n",
    "print(data)"
   ]
  }
 ],
 "metadata": {
  "kernelspec": {
   "display_name": "Python 3",
   "language": "python",
   "name": "python3"
  },
  "language_info": {
   "codemirror_mode": {
    "name": "ipython",
    "version": 3
   },
   "file_extension": ".py",
   "mimetype": "text/x-python",
   "name": "python",
   "nbconvert_exporter": "python",
   "pygments_lexer": "ipython3",
   "version": "3.6.8"
  }
 },
 "nbformat": 4,
 "nbformat_minor": 2
}
