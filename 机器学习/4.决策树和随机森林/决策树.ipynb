{
 "cells": [
  {
   "cell_type": "markdown",
   "metadata": {},
   "source": [
    "# 泰坦尼克号数据\n",
    "在泰坦尼克号和titanic2数据帧描述泰坦尼克号上的个别乘客的生存状态。\n",
    "在泰坦尼克号的数据帧不包含从剧组信息，但它确实包含了乘客的一半的实际年龄\n",
    "\n",
    "* 我们提取的数据集中的特征是票的类别，存活，乘坐班，年龄，登陆，home.dest,\n",
    "    房间，票，船和性别。乘坐是指乘客班（１，２，３），是社会经济层的代表\n",
    "     其中ａｇｅ数据存在缺失"
   ]
  },
  {
   "cell_type": "markdown",
   "metadata": {},
   "source": [
    "#　泰坦尼克号乘客生存分类模型流程\n",
    "* １.读取数据\n",
    "* ２.选择有影响的特征，处理缺失值\n",
    "* ３.进行特征工程，pd转换字典，特征抽取ｘ_trian.to_dict(orient='records')\n",
    "* ４.决策树估计器流程"
   ]
  },
  {
   "cell_type": "code",
   "execution_count": 2,
   "metadata": {},
   "outputs": [],
   "source": [
    "from sklearn.model_selection import train_test_split #分割训练集和测试集\n",
    "from sklearn.preprocessing import StandardScaler #特征缩放\n",
    "from sklearn.feature_extraction import DictVectorizer #类别转换（文）\n",
    "from sklearn.tree import DecisionTreeClassifier #决策树算法\n",
    "from sklearn.tree import export_graphviz #导出决策树的结构\n",
    "import pandas as pd"
   ]
  },
  {
   "cell_type": "code",
   "execution_count": 6,
   "metadata": {
    "collapsed": true
   },
   "outputs": [
    {
     "name": "stdout",
     "output_type": "stream",
     "text": [
      "      row.names pclass  survived  \\\n",
      "0             1    1st         1   \n",
      "1             2    1st         0   \n",
      "2             3    1st         0   \n",
      "3             4    1st         0   \n",
      "4             5    1st         1   \n",
      "...         ...    ...       ...   \n",
      "1308       1309    3rd         0   \n",
      "1309       1310    3rd         0   \n",
      "1310       1311    3rd         0   \n",
      "1311       1312    3rd         0   \n",
      "1312       1313    3rd         0   \n",
      "\n",
      "                                                 name      age     embarked  \\\n",
      "0                        Allen, Miss Elisabeth Walton  29.0000  Southampton   \n",
      "1                         Allison, Miss Helen Loraine   2.0000  Southampton   \n",
      "2                 Allison, Mr Hudson Joshua Creighton  30.0000  Southampton   \n",
      "3     Allison, Mrs Hudson J.C. (Bessie Waldo Daniels)  25.0000  Southampton   \n",
      "4                       Allison, Master Hudson Trevor   0.9167  Southampton   \n",
      "...                                               ...      ...          ...   \n",
      "1308                               Zakarian, Mr Artun      NaN          NaN   \n",
      "1309                           Zakarian, Mr Maprieder      NaN          NaN   \n",
      "1310                                  Zenn, Mr Philip      NaN          NaN   \n",
      "1311                                    Zievens, Rene      NaN          NaN   \n",
      "1312                                   Zimmerman, Leo      NaN          NaN   \n",
      "\n",
      "                            home.dest room      ticket   boat     sex  \n",
      "0                        St Louis, MO  B-5  24160 L221      2  female  \n",
      "1     Montreal, PQ / Chesterville, ON  C26         NaN    NaN  female  \n",
      "2     Montreal, PQ / Chesterville, ON  C26         NaN  (135)    male  \n",
      "3     Montreal, PQ / Chesterville, ON  C26         NaN    NaN  female  \n",
      "4     Montreal, PQ / Chesterville, ON  C22         NaN     11    male  \n",
      "...                               ...  ...         ...    ...     ...  \n",
      "1308                              NaN  NaN         NaN    NaN    male  \n",
      "1309                              NaN  NaN         NaN    NaN    male  \n",
      "1310                              NaN  NaN         NaN    NaN    male  \n",
      "1311                              NaN  NaN         NaN    NaN  female  \n",
      "1312                              NaN  NaN         NaN    NaN    male  \n",
      "\n",
      "[1313 rows x 11 columns]\n",
      "     pclass        age     sex\n",
      "353     2nd  25.000000    male\n",
      "24      1st  28.000000    male\n",
      "964     3rd  31.194181  female\n",
      "1281    3rd  31.194181    male\n",
      "660     3rd  31.194181  female\n",
      "...     ...        ...     ...\n",
      "683     3rd  31.194181  female\n",
      "820     3rd  31.194181  female\n",
      "600     2nd  31.194181    male\n",
      "484     2nd  31.194181    male\n",
      "505     2nd  71.000000    male\n",
      "\n",
      "[984 rows x 3 columns]\n",
      "[[25.          0.          1.          0.          0.          1.        ]\n",
      " [28.          1.          0.          0.          0.          1.        ]\n",
      " [31.19418104  0.          0.          1.          1.          0.        ]\n",
      " ...\n",
      " [31.19418104  0.          1.          0.          0.          1.        ]\n",
      " [31.19418104  0.          1.          0.          0.          1.        ]\n",
      " [71.          0.          1.          0.          0.          1.        ]]\n",
      "预测的准确率： 0.8085106382978723\n"
     ]
    },
    {
     "name": "stderr",
     "output_type": "stream",
     "text": [
      "/home/tang/mnt/F/学习/人工智能/venv/lib/python3.6/site-packages/pandas/core/generic.py:6287: SettingWithCopyWarning: \n",
      "A value is trying to be set on a copy of a slice from a DataFrame\n",
      "\n",
      "See the caveats in the documentation: http://pandas.pydata.org/pandas-docs/stable/user_guide/indexing.html#returning-a-view-versus-a-copy\n",
      "  self._update_inplace(new_data)\n"
     ]
    }
   ],
   "source": [
    "def decision():\n",
    "    \"\"\"\n",
    "    决策树对泰坦尼克号进行预测生死\n",
    "    \"\"\"\n",
    "    #获取数据\n",
    "    tian = pd.read_csv(\"http://biostat.mc.vanderbilt.edu/wiki/pub/Main/DataSets/titanic.txt\")\n",
    "    print(tian)\n",
    "    \n",
    "    #处理数据，找出特征值和目标值\n",
    "    x = tian[['pclass','age','sex']]\n",
    "    y = tian['survived']\n",
    "    #缺失值处理\n",
    "    x['age'].fillna(x['age'].mean(),inplace=True)\n",
    "    \n",
    "    #分割数据到训练集和测试集\n",
    "    x_train,x_test,y_train,y_test = train_test_split(x,y,test_size=0.25)\n",
    "    print(x_train)\n",
    "    \n",
    "    \n",
    "    #进行处理（特征工程）　特征－》类别－》one_hot编码\n",
    "    dict = DictVectorizer(sparse=False)\n",
    "    x_train = dict.fit_transform(x_train.to_dict(orient='records'))\n",
    "    x_test = dict.transform(x_test.to_dict(orient='records'))\n",
    "    print(x_train)\n",
    "    \n",
    "    #用决策树进行预测\n",
    "    dec = DecisionTreeClassifier() #max_depth决策树的深度，影响到准确率\n",
    "    dec.fit(x_train,y_train)\n",
    "    \n",
    "    #预测准确率\n",
    "    print(\"预测的准确率：\",dec.score(x_test,y_test))\n",
    "    \n",
    "    #导出决策树的结构\n",
    "    export_graphviz(dec,out_file='./tree.dot',feature_names=['年龄','pclass=lst','pclass=2nd','pclass=3rd','女性','男性'])\n",
    "    \n",
    "    return None\n",
    "\n",
    "decision()"
   ]
  },
  {
   "cell_type": "code",
   "execution_count": null,
   "metadata": {},
   "outputs": [],
   "source": [
    "\n",
    "\n",
    "\n"
   ]
  }
 ],
 "metadata": {
  "kernelspec": {
   "display_name": "Python 3",
   "language": "python",
   "name": "python3"
  },
  "language_info": {
   "codemirror_mode": {
    "name": "ipython",
    "version": 3
   },
   "file_extension": ".py",
   "mimetype": "text/x-python",
   "name": "python",
   "nbconvert_exporter": "python",
   "pygments_lexer": "ipython3",
   "version": "3.6.8"
  }
 },
 "nbformat": 4,
 "nbformat_minor": 2
}
