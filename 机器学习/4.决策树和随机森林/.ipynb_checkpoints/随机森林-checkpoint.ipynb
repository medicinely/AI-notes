{
 "cells": [
  {
   "cell_type": "code",
   "execution_count": 2,
   "metadata": {},
   "outputs": [],
   "source": [
    "from sklearn.model_selection import train_test_split #分割训练集和测试集\n",
    "from sklearn.preprocessing import StandardScaler #特征缩放\n",
    "from sklearn.feature_extraction import DictVectorizer #类别转换（文）\n",
    "from sklearn.ensemble import RandomForestClassifier #随机森林\n",
    "from sklearn.model_selection import GridSearchCV  #网格搜索\n",
    "import pandas as pd"
   ]
  },
  {
   "cell_type": "code",
   "execution_count": 5,
   "metadata": {
    "collapsed": true
   },
   "outputs": [
    {
     "name": "stderr",
     "output_type": "stream",
     "text": [
      "/home/tang/mnt/F/学习/人工智能/venv/lib/python3.6/site-packages/pandas/core/generic.py:6287: SettingWithCopyWarning: \n",
      "A value is trying to be set on a copy of a slice from a DataFrame\n",
      "\n",
      "See the caveats in the documentation: http://pandas.pydata.org/pandas-docs/stable/user_guide/indexing.html#returning-a-view-versus-a-copy\n",
      "  self._update_inplace(new_data)\n"
     ]
    },
    {
     "name": "stdout",
     "output_type": "stream",
     "text": [
      "准确率： 0.817629179331307\n",
      "查看选择的参数模型： {'max_depth': 5, 'n_estimators': 10}\n"
     ]
    }
   ],
   "source": [
    "def decision():\n",
    "    \"\"\"\n",
    "    决策树对泰坦尼克号进行预测生死\n",
    "    \"\"\"\n",
    "    #获取数据\n",
    "    tian = pd.read_csv(\"http://biostat.mc.vanderbilt.edu/wiki/pub/Main/DataSets/titanic.txt\")\n",
    "    \n",
    "    #处理数据，找出特征值和目标值\n",
    "    x = tian[['pclass','age','sex']]\n",
    "    y = tian['survived']\n",
    "    #缺失值处理\n",
    "    x['age'].fillna(x['age'].mean(),inplace=True)\n",
    "    \n",
    "    #分割数据到训练集和测试集\n",
    "    x_train,x_test,y_train,y_test = train_test_split(x,y,test_size=0.25)\n",
    "    \n",
    "    \n",
    "    #进行处理（特征工程）　特征－》类别－》one_hot编码\n",
    "    dict = DictVectorizer(sparse=False)\n",
    "    x_train = dict.fit_transform(x_train.to_dict(orient='records'))\n",
    "    x_test = dict.transform(x_test.to_dict(orient='records'))\n",
    "    \n",
    "#     #用决策树进行预测\n",
    "#     dec = DecisionTreeClassifier() #max_depth决策树的深度，影响到准确率\n",
    "#     dec.fit(x_train,y_train)\n",
    "    \n",
    "#     #预测准确率\n",
    "#     print(\"预测的准确率：\",dec.score(x_test,y_test))\n",
    "    \n",
    "#     #导出决策树的结构\n",
    "#     export_graphviz(dec,out_file='./tree.dot',feature_names=['年龄','pclass=lst','pclass=2nd','pclass=3rd','女性','男性'])\n",
    "    \n",
    "    #随机森林进行预测（超参数调优）\n",
    "    rf = RandomForestClassifier()\n",
    "    param = {\n",
    "        \"n_estimators\":[10,200,300,500,800,1200],\n",
    "        \"max_depth\":[5,8,15,25,30],\n",
    "    }\n",
    "    #网格搜索与交叉验证\n",
    "    gc = GridSearchCV(rf,param_grid=param,cv=2)\n",
    "    \n",
    "    gc.fit(x_train,y_train)\n",
    "    \n",
    "    print(\"准确率：\",gc.score(x_test,y_test))\n",
    "    print(\"查看选择的参数模型：\",gc.best_params_)\n",
    "    \n",
    "    return None\n",
    "\n",
    "decision()"
   ]
  }
 ],
 "metadata": {
  "kernelspec": {
   "display_name": "Python 3",
   "language": "python",
   "name": "python3"
  },
  "language_info": {
   "codemirror_mode": {
    "name": "ipython",
    "version": 3
   },
   "file_extension": ".py",
   "mimetype": "text/x-python",
   "name": "python",
   "nbconvert_exporter": "python",
   "pygments_lexer": "ipython3",
   "version": "3.6.8"
  }
 },
 "nbformat": 4,
 "nbformat_minor": 2
}
