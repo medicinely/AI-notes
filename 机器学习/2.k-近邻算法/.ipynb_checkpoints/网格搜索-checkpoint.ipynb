{
 "cells": [
  {
   "cell_type": "code",
   "execution_count": 1,
   "metadata": {},
   "outputs": [],
   "source": [
    "from sklearn.model_selection import train_test_split #分割训练集和测试集\n",
    "from sklearn.neighbors import KNeighborsClassifier   #k-近邻算法\n",
    "from sklearn.model_selection import GridSearchCV  #网格搜索\n",
    "from sklearn.preprocessing import StandardScaler #特征缩放\n",
    "import pandas as pd"
   ]
  },
  {
   "cell_type": "code",
   "execution_count": 10,
   "metadata": {
    "scrolled": false
   },
   "outputs": [
    {
     "name": "stderr",
     "output_type": "stream",
     "text": [
      "/home/tang/视频/北京15期就业班/源码/venv/lib/python3.6/site-packages/ipykernel_launcher.py:16: SettingWithCopyWarning: \n",
      "A value is trying to be set on a copy of a slice from a DataFrame.\n",
      "Try using .loc[row_indexer,col_indexer] = value instead\n",
      "\n",
      "See the caveats in the documentation: http://pandas.pydata.org/pandas-docs/stable/user_guide/indexing.html#returning-a-view-versus-a-copy\n",
      "  app.launch_new_instance()\n",
      "/home/tang/视频/北京15期就业班/源码/venv/lib/python3.6/site-packages/ipykernel_launcher.py:17: SettingWithCopyWarning: \n",
      "A value is trying to be set on a copy of a slice from a DataFrame.\n",
      "Try using .loc[row_indexer,col_indexer] = value instead\n",
      "\n",
      "See the caveats in the documentation: http://pandas.pydata.org/pandas-docs/stable/user_guide/indexing.html#returning-a-view-versus-a-copy\n",
      "/home/tang/视频/北京15期就业班/源码/venv/lib/python3.6/site-packages/ipykernel_launcher.py:18: SettingWithCopyWarning: \n",
      "A value is trying to be set on a copy of a slice from a DataFrame.\n",
      "Try using .loc[row_indexer,col_indexer] = value instead\n",
      "\n",
      "See the caveats in the documentation: http://pandas.pydata.org/pandas-docs/stable/user_guide/indexing.html#returning-a-view-versus-a-copy\n",
      "/home/tang/视频/北京15期就业班/源码/venv/lib/python3.6/site-packages/sklearn/model_selection/_split.py:657: Warning: The least populated class in y has only 1 members, which is too few. The minimum number of members in any class cannot be less than n_splits=2.\n",
      "  % (min_groups, self.n_splits)), Warning)\n"
     ]
    },
    {
     "name": "stdout",
     "output_type": "stream",
     "text": [
      "在测试集上准确率: 0.4777777777777778\n",
      "在交叉验证当中最好的结果： 0.4489281210592686\n",
      "选择最好的模型是： KNeighborsClassifier(algorithm='auto', leaf_size=30, metric='minkowski',\n",
      "                     metric_params=None, n_jobs=None, n_neighbors=10, p=2,\n",
      "                     weights='uniform')\n",
      "每个超参数每次交叉验证的结果： {'mean_fit_time': array([0.00551116, 0.00405693, 0.00395548]), 'std_fit_time': array([1.53243542e-03, 9.96589661e-05, 7.66515732e-05]), 'mean_score_time': array([0.22068048, 0.2312746 , 0.25882566]), 'std_score_time': array([0.00798512, 0.00310636, 0.00673759]), 'param_n_neighbors': masked_array(data=[3, 5, 10],\n",
      "             mask=[False, False, False],\n",
      "       fill_value='?',\n",
      "            dtype=object), 'params': [{'n_neighbors': 3}, {'n_neighbors': 5}, {'n_neighbors': 10}], 'split0_test_score': array([0.4234192 , 0.43419204, 0.44215457]), 'split1_test_score': array([0.42511539, 0.45217253, 0.4558332 ]), 'mean_test_score': array([0.42425914, 0.44309584, 0.44892812]), 'std_test_score': array([0.00084805, 0.00898983, 0.006839  ]), 'rank_test_score': array([3, 2, 1], dtype=int32)}\n"
     ]
    }
   ],
   "source": [
    "def knncls():\n",
    "    \"\"\"\n",
    "    k-近邻预测用户签到位置\n",
    "    \"\"\"\n",
    "    #1.读取数据\n",
    "    data = pd.read_csv(\"./train.csv\")\n",
    "    #2.处理数据\n",
    "    \n",
    "        #2.1 缩小数据范围（少量的数据容易操作）\n",
    "    data = data.query(\"x > 1.0 & x < 1.25 & y >2.5 & y < 2.75\")\n",
    "        #2.2 处理时间数据\n",
    "    time_value = pd.to_datetime(data['time'],unit='s')\n",
    "        #2.3 把日期格式转换成字典格式\n",
    "    time_value = pd.DatetimeIndex(time_value)\n",
    "    #3.构造一些特征\n",
    "    data['day'] = time_value.day\n",
    "    data['hour'] = time_value.hour\n",
    "    data['weekday'] = time_value.weekday\n",
    "        #3.1 把时间戳特征删除\n",
    "    data = data.drop(['time'],axis=1)\n",
    "        #3.2 把签到数量少于n个目标位置删除\n",
    "    place_count = data.groupby('place_id').count()\n",
    "    tf = place_count[place_count.row_id > 3].reset_index()  #reset_index()把索引设置为列\n",
    "    data = data[data['place_id'].isin(tf.place_id)]\n",
    "        #3.3 删除无关特征\n",
    "    data = data.drop(['row_id'],axis=1)\n",
    "        #3.3 取出数据中的特征值和目标值\n",
    "    y = data['place_id']\n",
    "    x = data.drop(['place_id'],axis=1)\n",
    "        #3.4 进行数据的分割训练集和测试集\n",
    "    x_train,x_test,y_train,y_test = train_test_split(x,y,test_size=0.25)\n",
    "    \n",
    "    #4.特征工程（标准化）\n",
    "    std = StandardScaler()\n",
    "        #4.1 对测试集和训练集的特征值进行标准化\n",
    "    x_train = std.fit_transform(x_train)\n",
    "    x_test = std.transform(x_test)\n",
    "     \n",
    "    \n",
    "    #5. 进行算法流程（超参数）\n",
    "    knn = KNeighborsClassifier()# n_neighbors 为 k值\n",
    "    \n",
    "#     #5.1 写入训练集数据 \n",
    "#     knn.fit(x_train,y_train)\n",
    "    \n",
    "#     #5.2 得到预测结果\n",
    "#     y_predict = knn.predict(x_test)\n",
    "#     print(\"预测的目标签到位置为：\",y_predict)\n",
    "\n",
    "#     #得出准确率\n",
    "#     print(\"预测的准确率：\",knn.score(x_test,y_test))\n",
    "\n",
    "    #5.1 构造一些参数的值进行索引\n",
    "    param_grid = {'n_neighbors':[3,5,10]}\n",
    "    #5.2 进行网格搜索\n",
    "    gc = GridSearchCV(knn,param_grid=param_grid,cv=2)\n",
    "    #5.3 写入训练集数据\n",
    "    gc.fit(x_train,y_train)\n",
    "    # 预测准确率\n",
    "    print('在测试集上准确率:',gc.score(x_test,y_test))\n",
    "    \n",
    "    print('在交叉验证当中最好的结果：',gc.best_score_)\n",
    "    print('选择最好的模型是：',gc.best_estimator_)\n",
    "    print('每个超参数每次交叉验证的结果：',gc.cv_results_)\n",
    "    return None\n",
    "    \n",
    "knncls()"
   ]
  }
 ],
 "metadata": {
  "kernelspec": {
   "display_name": "Python 3",
   "language": "python",
   "name": "python3"
  },
  "language_info": {
   "codemirror_mode": {
    "name": "ipython",
    "version": 3
   },
   "file_extension": ".py",
   "mimetype": "text/x-python",
   "name": "python",
   "nbconvert_exporter": "python",
   "pygments_lexer": "ipython3",
   "version": "3.6.8"
  }
 },
 "nbformat": 4,
 "nbformat_minor": 2
}
