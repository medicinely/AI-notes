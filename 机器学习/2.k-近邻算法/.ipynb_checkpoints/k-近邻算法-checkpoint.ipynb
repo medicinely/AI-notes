{
 "cells": [
  {
   "cell_type": "code",
   "execution_count": null,
   "metadata": {},
   "outputs": [],
   "source": [
    "# 实例流程\n",
    "   [数据来源](https://www.kaggle.com/c/facebook-v-predicting-check-ins/data)\n",
    "1. 数据集的处理\n",
    "2. 分割数据集\n",
    "3. 对数据集进行标准化\n",
    "4. estimator流程进行分类预测"
   ]
  },
  {
   "cell_type": "code",
   "execution_count": 3,
   "metadata": {},
   "outputs": [],
   "source": [
    "from sklearn.model_selection import train_test_split #分割训练集和测试集\n",
    "from sklearn.neighbors import KNeighborsClassifier   #k-近邻算法\n",
    "from sklearn.preprocessing import StandardScaler    #特征标准化\n",
    "import pandas as pd"
   ]
  },
  {
   "cell_type": "code",
   "execution_count": 13,
   "metadata": {
    "collapsed": true
   },
   "outputs": [
    {
     "name": "stderr",
     "output_type": "stream",
     "text": [
      "/home/tang/mnt/F/学习/人工智能/venv/lib/python3.6/site-packages/ipykernel_launcher.py:17: SettingWithCopyWarning: \n",
      "A value is trying to be set on a copy of a slice from a DataFrame.\n",
      "Try using .loc[row_indexer,col_indexer] = value instead\n",
      "\n",
      "See the caveats in the documentation: http://pandas.pydata.org/pandas-docs/stable/user_guide/indexing.html#returning-a-view-versus-a-copy\n",
      "/home/tang/mnt/F/学习/人工智能/venv/lib/python3.6/site-packages/ipykernel_launcher.py:18: SettingWithCopyWarning: \n",
      "A value is trying to be set on a copy of a slice from a DataFrame.\n",
      "Try using .loc[row_indexer,col_indexer] = value instead\n",
      "\n",
      "See the caveats in the documentation: http://pandas.pydata.org/pandas-docs/stable/user_guide/indexing.html#returning-a-view-versus-a-copy\n",
      "/home/tang/mnt/F/学习/人工智能/venv/lib/python3.6/site-packages/ipykernel_launcher.py:19: SettingWithCopyWarning: \n",
      "A value is trying to be set on a copy of a slice from a DataFrame.\n",
      "Try using .loc[row_indexer,col_indexer] = value instead\n",
      "\n",
      "See the caveats in the documentation: http://pandas.pydata.org/pandas-docs/stable/user_guide/indexing.html#returning-a-view-versus-a-copy\n"
     ]
    },
    {
     "name": "stdout",
     "output_type": "stream",
     "text": [
      "       place_id  row_id     x     y  accuracy   day  hour  weekday\n",
      "0    1097200869    1044  1044  1044      1044  1044  1044     1044\n",
      "1    1228935308     120   120   120       120   120   120      120\n",
      "2    1267801529      58    58    58        58    58    58       58\n",
      "3    1278040507      15    15    15        15    15    15       15\n",
      "4    1285051622      21    21    21        21    21    21       21\n",
      "..          ...     ...   ...   ...       ...   ...   ...      ...\n",
      "234  9741307878       5     5     5         5     5     5        5\n",
      "235  9753855529      21    21    21        21    21    21       21\n",
      "236  9806043737       6     6     6         6     6     6        6\n",
      "237  9809476069      23    23    23        23    23    23       23\n",
      "238  9980711012       5     5     5         5     5     5        5\n",
      "\n",
      "[239 rows x 8 columns]\n",
      "预测的目标签到位置为： [6424972551 1097200869 2548071187 ... 3312463746 3312463746 3952821602]\n",
      "预测的准确率： 0.47588652482269506\n"
     ]
    }
   ],
   "source": [
    "def knncls():\n",
    "    \"\"\"\n",
    "    k-近邻预测用户签到位置\n",
    "    \"\"\"\n",
    "    #1.读取数据\n",
    "    data = pd.read_csv(\"./train.csv\")\n",
    "    \n",
    "    #2.处理数据\n",
    "    \n",
    "        #2.1 缩小数据范围（少量的数据容易操作）\n",
    "    data = data.query(\"x > 1.0 & x < 1.25 & y >2.5 & y < 2.75\")\n",
    "        #2.2 处理时间数据\n",
    "    time_value = pd.to_datetime(data['time'],unit='s')\n",
    "        #2.3 把日期格式转换成字典格式\n",
    "    time_value = pd.DatetimeIndex(time_value)\n",
    "    \n",
    "    #3.构造一些特征\n",
    "#     data.loc[:,['day']] = time.value.day  \n",
    "    data['day'] = time_value.day\n",
    "    data['hour'] = time_value.hour\n",
    "    data['weekday'] = time_value.weekday\n",
    "        #3.1 把时间戳特征删除\n",
    "    data = data.drop(['time'],axis=1)\n",
    "        #3.2 把签到数量少于n个目标位置删除\n",
    "    place_count = data.groupby('place_id').count()\n",
    "    tf = place_count[place_count.row_id > 3].reset_index()  #reset_index()把索引设置为列\n",
    "    data = data[data['place_id'].isin(tf.place_id)]\n",
    "        #3.3 删除无关特征\n",
    "    data = data.drop(['row_id'],axis=1)\n",
    "        #3.3 取出数据中的特征值和目标值\n",
    "    y = data['place_id']\n",
    "    x = data.drop(['place_id'],axis=1)\n",
    "        #3.4 进行数据的分割训练集和测试集\n",
    "    x_train,x_test,y_train,y_test = train_test_split(x,y,test_size=0.25)\n",
    "    \n",
    "    #4.特征工程（标准化）\n",
    "    std = StandardScaler()\n",
    "        #4.1 对测试集和训练集的特征值进行标准化\n",
    "    x_train = std.fit_transform(x_train)\n",
    "    x_test = std.transform(x_test)\n",
    "     \n",
    "    \n",
    "    #5. 进行算法流程（超参数）\n",
    "    knn = KNeighborsClassifier(n_neighbors=5)  # n_neighbors 为 k值\n",
    "    \n",
    "    #5.1 写入训练集数据 \n",
    "    knn.fit(x_train,y_train)\n",
    "    \n",
    "    #5.2 得到预测结果\n",
    "    y_predict = knn.predict(x_test)\n",
    "    print(\"预测的目标签到位置为：\",y_predict)\n",
    "\n",
    "    #得出准确率\n",
    "    print(\"预测的准确率：\",knn.score(x_test,y_test))\n",
    "    return None\n",
    "    \n",
    "knncls()"
   ]
  },
  {
   "cell_type": "markdown",
   "metadata": {},
   "source": [
    "# 处理后的问题\n",
    "\n",
    "1. k值取多大？有什么影响\n",
    "    * k值取很小：容易受异常点影响\n",
    "    * k值取很大：容易受k值数量（类别）波动\n",
    "    \n",
    "2. 性能问题？\n",
    "    * 性能较低\n",
    "    \n",
    "# k-近邻算法优缺点\n",
    "\n",
    "* 优点\n",
    "    * 简单，易于理解，易于实现，`无需估计参数，无需训练`\n",
    "    \n",
    "* 缺点\n",
    "    * 懒惰算法，对测试样本分类时的计算量大，内存开销大\n",
    "    * 必须指定k值，k值选择不当则分类精度不能保证\n",
    "   \n",
    "* 使用场景：小数据场景，几千～几万样本，具体场景具体业务去测试\n",
    "\n",
    "# 特征工程的相关知识点\n",
    "   * 数值型数据（标准缩放）：\n",
    "       1. 标准化：通过对原始数据进行变换，把数据变换到均值为0，方差为1范围内\n",
    "       2. 归一化：多个特征同等重要的时候需要进行归一处理\n",
    "           * 目的：使得某一个特征对最终结果不会造成更大影响\n",
    "           * 特点：通过对原始数据进行变换把数据映射到（默认为【0,1】）之间\n",
    "           * 公式：x1 = （x-min）/(max-min)  x2 = x1*(mx -mi) + mi\n",
    "       3. 缺失值\n",
    "   * 类别型数据：one-hot编码\n",
    "   * 时间类型：时间的切分"
   ]
  }
 ],
 "metadata": {
  "kernelspec": {
   "display_name": "Python 3",
   "language": "python",
   "name": "python3"
  },
  "language_info": {
   "codemirror_mode": {
    "name": "ipython",
    "version": 3
   },
   "file_extension": ".py",
   "mimetype": "text/x-python",
   "name": "python",
   "nbconvert_exporter": "python",
   "pygments_lexer": "ipython3",
   "version": "3.6.8"
  }
 },
 "nbformat": 4,
 "nbformat_minor": 2
}
