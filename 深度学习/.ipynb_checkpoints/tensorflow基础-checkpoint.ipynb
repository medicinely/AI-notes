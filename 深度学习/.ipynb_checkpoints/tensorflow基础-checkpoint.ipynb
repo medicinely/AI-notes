{
 "cells": [
  {
   "cell_type": "code",
   "execution_count": 3,
   "metadata": {},
   "outputs": [],
   "source": [
    "import tensorflow as tf\n",
    "import os\n",
    "os.environ['TF_CPP_MIN_LOG_LEVEL'] = '2'"
   ]
  },
  {
   "cell_type": "code",
   "execution_count": 9,
   "metadata": {
    "collapsed": true
   },
   "outputs": [
    {
     "name": "stdout",
     "output_type": "stream",
     "text": [
      "11\n",
      "<tensorflow.python.framework.ops.Graph object at 0x7fa8d2557588>\n",
      "<tensorflow.python.framework.ops.Graph object at 0x7fa8d2557588>\n",
      "<tensorflow.python.framework.ops.Graph object at 0x7fa8d2557588>\n",
      "()\n",
      "name: \"Const_13\"\n",
      "op: \"Const\"\n",
      "attr {\n",
      "  key: \"dtype\"\n",
      "  value {\n",
      "    type: DT_INT32\n",
      "  }\n",
      "}\n",
      "attr {\n",
      "  key: \"value\"\n",
      "  value {\n",
      "    tensor {\n",
      "      dtype: DT_INT32\n",
      "      tensor_shape {\n",
      "      }\n",
      "      int_val: 6\n",
      "    }\n",
      "  }\n",
      "}\n",
      "\n"
     ]
    }
   ],
   "source": [
    "a = tf.constant(5)\n",
    "b = tf.constant(6)\n",
    "sum = tf.add(a,b)\n",
    "\n",
    "\n",
    "#重载机制，默认会给运算符重载成op类型\n",
    "# var1 = 2.0\n",
    "# sum2 = a + var1   #a为tf类型，var1为float类型\n",
    "#默认的图，相当于给程序分配一段内存\n",
    "graph = tf.get_default_graph()\n",
    "\n",
    "with tf.Session() as sess:\n",
    "    print(sess.run(sum))\n",
    "    print(a.graph)\n",
    "    print(sum.graph)\n",
    "    print(sess.graph)\n",
    "    print(b.shape)\n",
    "    print(b.op)    "
   ]
  },
  {
   "cell_type": "code",
   "execution_count": 12,
   "metadata": {
    "collapsed": true
   },
   "outputs": [
    {
     "name": "stdout",
     "output_type": "stream",
     "text": [
      "<tensorflow.python.framework.ops.Graph object at 0x7f17b9218198>\n",
      "<tensorflow.python.framework.ops.Graph object at 0x7f17b9218198>\n"
     ]
    }
   ],
   "source": [
    "#创建一张图(包含一组op和tensor),上下文环境\n",
    "#op：只要使用tensorflow的API定义的函数都是op\n",
    "#tensor：指代的是数据\n",
    "\n",
    "g = tf.Graph()\n",
    "print(g)\n",
    "with g.as_default():\n",
    "    c = tf.constant(11.0)\n",
    "    print(c.graph)"
   ]
  },
  {
   "cell_type": "markdown",
   "metadata": {},
   "source": [
    "# 张量"
   ]
  },
  {
   "cell_type": "code",
   "execution_count": 17,
   "metadata": {
    "collapsed": true
   },
   "outputs": [
    {
     "name": "stdout",
     "output_type": "stream",
     "text": [
      "Tensor(\"Placeholder_7:0\", shape=(?, 2), dtype=float32)\n",
      "Tensor(\"Placeholder_7:0\", shape=(3, 2), dtype=float32)\n",
      "Tensor(\"Reshape_6:0\", shape=(2, 3), dtype=float32)\n"
     ]
    }
   ],
   "source": [
    "plt = tf.placeholder(tf.float32,[None,2])\n",
    "\n",
    "print(plt)\n",
    "\n",
    "plt.set_shape([3,2])   #已经设置为静态形状，不能再修改\n",
    "print(plt)\n",
    "\n",
    "plt_reshape = tf.reshape(plt,[2,3])  #动态形状修改（改变遵循元素数量匹配）\n",
    "print(plt_reshape)\n",
    "\n",
    "with tf.Session() as sess:\n",
    "    pass"
   ]
  },
  {
   "cell_type": "code",
   "execution_count": 25,
   "metadata": {},
   "outputs": [
    {
     "name": "stdout",
     "output_type": "stream",
     "text": [
      "Tensor(\"Const_19:0\", shape=(5,), dtype=int32)\n",
      "<tf.Variable 'Variable_5:0' shape=(2, 3) dtype=float32_ref>\n",
      "[array([1, 2, 3, 4, 5], dtype=int32), array([[-0.38902974, -0.6580593 ,  1.5481094 ],\n",
      "       [-1.0071954 , -1.0251205 , -2.362806  ]], dtype=float32)]\n"
     ]
    }
   ],
   "source": [
    "zero = tf.zeros([3,4],tf.float32)\n",
    "\n",
    "#变量op\n",
    "#1.变量能够持久化保存，普通张量op不行\n",
    "#2.当定义一个变量op时，一定要在会话中运行初始化\n",
    "a = tf.constant([1,2,3,4,5])\n",
    "print(a)\n",
    "var = tf.Variable(\n",
    "    tf.random_normal([2,3],mean=0.0,stddev=1.0)\n",
    "                 )\n",
    "print(var)\n",
    "#必须做一步显示的初始化op\n",
    "init_op = tf.global_variables_initializer()\n",
    "\n",
    "\n",
    "with tf.Session() as sess:\n",
    "    #必须运行初始化op\n",
    "    sess.run(init_op)\n",
    "    \n",
    "    #把程序的图结构写入事件文件,graph：把指定的图写入事件文件\n",
    "    filewriter = tf.summary.FileWriter('./summary/',graph=sess.graph)\n",
    "    print(sess.run([a,var]))"
   ]
  }
 ],
 "metadata": {
  "kernelspec": {
   "display_name": "Python 3",
   "language": "python",
   "name": "python3"
  },
  "language_info": {
   "codemirror_mode": {
    "name": "ipython",
    "version": 3
   },
   "file_extension": ".py",
   "mimetype": "text/x-python",
   "name": "python",
   "nbconvert_exporter": "python",
   "pygments_lexer": "ipython3",
   "version": "3.6.8"
  }
 },
 "nbformat": 4,
 "nbformat_minor": 2
}
